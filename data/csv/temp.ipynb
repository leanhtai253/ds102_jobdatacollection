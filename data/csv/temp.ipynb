{
 "cells": [
  {
   "cell_type": "code",
   "execution_count": 1,
   "id": "bbb4e4f5",
   "metadata": {},
   "outputs": [],
   "source": [
    "import pandas as pd"
   ]
  },
  {
   "cell_type": "code",
   "execution_count": 2,
   "id": "312de1ae",
   "metadata": {},
   "outputs": [],
   "source": [
    "df = pd.read_csv(\"job-markets-vn.csv\")"
   ]
  },
  {
   "cell_type": "code",
   "execution_count": 5,
   "id": "b437da03",
   "metadata": {},
   "outputs": [],
   "source": [
    "temp_df = df[['description', 'requirement', 'mapped_industry']]"
   ]
  },
  {
   "cell_type": "code",
   "execution_count": 9,
   "id": "210e9f94",
   "metadata": {},
   "outputs": [
    {
     "data": {
      "text/html": [
       "<div>\n",
       "<style scoped>\n",
       "    .dataframe tbody tr th:only-of-type {\n",
       "        vertical-align: middle;\n",
       "    }\n",
       "\n",
       "    .dataframe tbody tr th {\n",
       "        vertical-align: top;\n",
       "    }\n",
       "\n",
       "    .dataframe thead th {\n",
       "        text-align: right;\n",
       "    }\n",
       "</style>\n",
       "<table border=\"1\" class=\"dataframe\">\n",
       "  <thead>\n",
       "    <tr style=\"text-align: right;\">\n",
       "      <th></th>\n",
       "      <th>description</th>\n",
       "      <th>requirement</th>\n",
       "      <th>mapped_industry</th>\n",
       "    </tr>\n",
       "  </thead>\n",
       "  <tbody>\n",
       "    <tr>\n",
       "      <th>0</th>\n",
       "      <td>Navigos Search, a part of Navigos Group, is th...</td>\n",
       "      <td>-  College Degree and above -  At least 3 year...</td>\n",
       "      <td>Bán buôn - Bán lẻ - Quản lý cửa hàng, Nhân sự,...</td>\n",
       "    </tr>\n",
       "    <tr>\n",
       "      <th>1</th>\n",
       "      <td>- Phụ trách quản lý chất lượng hàng kim loại. ...</td>\n",
       "      <td>- Có kinh nghiệm từ 2 năm trở lên làm chất lượ...</td>\n",
       "      <td>Quản lý tiêu chuẩn và chất lượng, Sản xuất - L...</td>\n",
       "    </tr>\n",
       "    <tr>\n",
       "      <th>2</th>\n",
       "      <td>Đất Xanh Miền Bắc là công ty bất động sản hàng...</td>\n",
       "      <td>- Đam mê kinh doanh, muốn kiếm nhiều tiền và m...</td>\n",
       "      <td>Bán buôn - Bán lẻ - Quản lý cửa hàng, Bất động...</td>\n",
       "    </tr>\n",
       "    <tr>\n",
       "      <th>3</th>\n",
       "      <td>Tasks: - Analyze competition of Banking produc...</td>\n",
       "      <td>Job requirements: - Male/ Female with Bachelor...</td>\n",
       "      <td>Marketing, Ngân hàng, Tài chính - Đầu tư</td>\n",
       "    </tr>\n",
       "    <tr>\n",
       "      <th>4</th>\n",
       "      <td>I. Thông tin chung: - Chức danh:              ...</td>\n",
       "      <td>– Nữ từ 24 – 40 tuổi, có sức khỏe tốt – Tốt ng...</td>\n",
       "      <td>Chăm sóc khách hàng, Khách sạn - Nhà hàng - Du...</td>\n",
       "    </tr>\n",
       "    <tr>\n",
       "      <th>...</th>\n",
       "      <td>...</td>\n",
       "      <td>...</td>\n",
       "      <td>...</td>\n",
       "    </tr>\n",
       "    <tr>\n",
       "      <th>19995</th>\n",
       "      <td>*Tốt nghiệp cao đẳng (ưu tiên sinh viên trường...</td>\n",
       "      <td>NaN</td>\n",
       "      <td>Thông tin - Truyền thông - Xuất bản - In ấn</td>\n",
       "    </tr>\n",
       "    <tr>\n",
       "      <th>19996</th>\n",
       "      <td>Cao đẳng các ngành Luật, Kinh tế, hành chính.....</td>\n",
       "      <td>NaN</td>\n",
       "      <td>Hành chính - Thư ký, Pháp Lý - Tuân thủ, Kế toán</td>\n",
       "    </tr>\n",
       "    <tr>\n",
       "      <th>19997</th>\n",
       "      <td>_ Tốt nghiệp Trung cấp trở lên, chuyên ngành k...</td>\n",
       "      <td>NaN</td>\n",
       "      <td>Vận hành máy - Bảo trì - Bảo dưỡng thiết bị</td>\n",
       "    </tr>\n",
       "    <tr>\n",
       "      <th>19998</th>\n",
       "      <td>- Trung thực,chịu khó, có trách nhiệm với công...</td>\n",
       "      <td>NaN</td>\n",
       "      <td>Quản lý tiêu chuẩn và chất lượng, Thu mua - Kh...</td>\n",
       "    </tr>\n",
       "    <tr>\n",
       "      <th>19999</th>\n",
       "      <td>- Trình độ: có bằng lái xe B2 trở lên;\\n- Kinh...</td>\n",
       "      <td>NaN</td>\n",
       "      <td>Vận Tải - Lái xe - Giao nhận</td>\n",
       "    </tr>\n",
       "  </tbody>\n",
       "</table>\n",
       "<p>20000 rows × 3 columns</p>\n",
       "</div>"
      ],
      "text/plain": [
       "                                             description  \\\n",
       "0      Navigos Search, a part of Navigos Group, is th...   \n",
       "1      - Phụ trách quản lý chất lượng hàng kim loại. ...   \n",
       "2      Đất Xanh Miền Bắc là công ty bất động sản hàng...   \n",
       "3      Tasks: - Analyze competition of Banking produc...   \n",
       "4      I. Thông tin chung: - Chức danh:              ...   \n",
       "...                                                  ...   \n",
       "19995  *Tốt nghiệp cao đẳng (ưu tiên sinh viên trường...   \n",
       "19996  Cao đẳng các ngành Luật, Kinh tế, hành chính.....   \n",
       "19997  _ Tốt nghiệp Trung cấp trở lên, chuyên ngành k...   \n",
       "19998  - Trung thực,chịu khó, có trách nhiệm với công...   \n",
       "19999  - Trình độ: có bằng lái xe B2 trở lên;\\n- Kinh...   \n",
       "\n",
       "                                             requirement  \\\n",
       "0      -  College Degree and above -  At least 3 year...   \n",
       "1      - Có kinh nghiệm từ 2 năm trở lên làm chất lượ...   \n",
       "2      - Đam mê kinh doanh, muốn kiếm nhiều tiền và m...   \n",
       "3      Job requirements: - Male/ Female with Bachelor...   \n",
       "4      – Nữ từ 24 – 40 tuổi, có sức khỏe tốt – Tốt ng...   \n",
       "...                                                  ...   \n",
       "19995                                                NaN   \n",
       "19996                                                NaN   \n",
       "19997                                                NaN   \n",
       "19998                                                NaN   \n",
       "19999                                                NaN   \n",
       "\n",
       "                                         mapped_industry  \n",
       "0      Bán buôn - Bán lẻ - Quản lý cửa hàng, Nhân sự,...  \n",
       "1      Quản lý tiêu chuẩn và chất lượng, Sản xuất - L...  \n",
       "2      Bán buôn - Bán lẻ - Quản lý cửa hàng, Bất động...  \n",
       "3               Marketing, Ngân hàng, Tài chính - Đầu tư  \n",
       "4      Chăm sóc khách hàng, Khách sạn - Nhà hàng - Du...  \n",
       "...                                                  ...  \n",
       "19995        Thông tin - Truyền thông - Xuất bản - In ấn  \n",
       "19996   Hành chính - Thư ký, Pháp Lý - Tuân thủ, Kế toán  \n",
       "19997        Vận hành máy - Bảo trì - Bảo dưỡng thiết bị  \n",
       "19998  Quản lý tiêu chuẩn và chất lượng, Thu mua - Kh...  \n",
       "19999                       Vận Tải - Lái xe - Giao nhận  \n",
       "\n",
       "[20000 rows x 3 columns]"
      ]
     },
     "execution_count": 9,
     "metadata": {},
     "output_type": "execute_result"
    }
   ],
   "source": [
    "temp_df"
   ]
  },
  {
   "cell_type": "code",
   "execution_count": 10,
   "id": "cdc3a013",
   "metadata": {},
   "outputs": [
    {
     "data": {
      "text/plain": [
       "'Đất Xanh Miền Bắc là công ty bất động sản hàng đầu tại Việt Nam với các lĩnh vực Đầu tư, Phân phối & Cho thuê, Quản lý bất động sản.  Đến với DXMB bạn cần gì? - Chuẩn bị sẵn tinh thần để MUỐN LÀM – DÁM THỬ, Làm như chơi và Chơi thì tới bến. - Tìm kiếm và tư vấn khách hàng có nhu cầu mua Bất động sản ở giỏ hàng chung với tất cả các mảng : Chung cư, biệt thự, liền kề, nghỉ dưỡng, sản phẩm … - Duy trì và Phát triển nguồn khách hàng tiềm năng. - Là người đại diện cho Đất Xanh Miền Bắc trong việc hỗ trợ, tư vấn và chăm sóc khách hàng - Làm việc tại một trong hệ thống 50 văn phòng khắp Hà Nội và các tỉnh lân cận. - BẠN CHƯA CÓ KINH NGHIỆM = Được đào tạo dắt tay chỉ việc.  - ĐỊA ĐIỂM LÀM VIỆC:  VP DX Hội Sở: Tầng 18, toà Center Building, số 85 Vũ Trọng Phụng, Hà Nội  VP DX Trung Kính: toà CIC, 219 Trung Kính, Hà Nội  VP DX Mỹ Đình: toà nhà Vinaconex9, Khu đô thị Mễ Trì Hạ, Hà Nội  VP DX Nam Hà Nội: Toà nhà Amber Riverside, 622 Minh Khai, Hà Nội  VP DX Hai Bà Trưng: Số 30 Việt Hưng - Long Biên và 360 Giải Phóng, Hà Nội'"
      ]
     },
     "execution_count": 10,
     "metadata": {},
     "output_type": "execute_result"
    }
   ],
   "source": [
    "temp_df.iloc[2]['description']"
   ]
  }
 ],
 "metadata": {
  "kernelspec": {
   "display_name": "Python 3 (ipykernel)",
   "language": "python",
   "name": "python3"
  },
  "language_info": {
   "codemirror_mode": {
    "name": "ipython",
    "version": 3
   },
   "file_extension": ".py",
   "mimetype": "text/x-python",
   "name": "python",
   "nbconvert_exporter": "python",
   "pygments_lexer": "ipython3",
   "version": "3.9.13"
  }
 },
 "nbformat": 4,
 "nbformat_minor": 5
}
