{
 "cells": [
  {
   "cell_type": "code",
   "execution_count": 1,
   "id": "fb9b5b99",
   "metadata": {},
   "outputs": [],
   "source": [
    "import pandas as pd\n",
    "import numpy as np \n",
    "import json\n",
    "import requests\n",
    "import os"
   ]
  },
  {
   "cell_type": "markdown",
   "id": "0f38371d",
   "metadata": {},
   "source": [
    "# Job levels"
   ]
  },
  {
   "cell_type": "code",
   "execution_count": 2,
   "id": "5b49dcc7",
   "metadata": {},
   "outputs": [],
   "source": [
    "LEVELS_URL = \"https://ms.vietnamworks.com/meta/v1.0/job-levels\"\n",
    "levels_rp = requests.get(LEVELS_URL)"
   ]
  },
  {
   "cell_type": "code",
   "execution_count": 19,
   "id": "7b55f678",
   "metadata": {},
   "outputs": [],
   "source": [
    "levels_arr = []"
   ]
  },
  {
   "cell_type": "code",
   "execution_count": 21,
   "id": "11bcfc26",
   "metadata": {},
   "outputs": [],
   "source": [
    "levels_js = json.loads(levels_rp.text)['data']['relationships']['data']\n",
    "for level in levels_js:\n",
    "    levels_arr.append({\n",
    "        'id':level['id'],\n",
    "        'nameVi':level['attributes']['nameVi'],\n",
    "        'nameEn':level['attributes']['nameEn']\n",
    "    })"
   ]
  },
  {
   "cell_type": "code",
   "execution_count": 24,
   "id": "f10ebe5b",
   "metadata": {},
   "outputs": [
    {
     "data": {
      "text/plain": [
       "[{'id': 8,\n",
       "  'type': 'jobLevelItem',\n",
       "  'attributes': {'nameVi': 'Thực tập sinh/Sinh viên',\n",
       "   'nameEn': 'Intern/Student'}},\n",
       " {'id': 1,\n",
       "  'type': 'jobLevelItem',\n",
       "  'attributes': {'nameVi': 'Mới Tốt Nghiệp', 'nameEn': 'Fresher/Entry level'}},\n",
       " {'id': 5,\n",
       "  'type': 'jobLevelItem',\n",
       "  'attributes': {'nameVi': 'Nhân viên',\n",
       "   'nameEn': 'Experienced (non-manager)'}},\n",
       " {'id': 7,\n",
       "  'type': 'jobLevelItem',\n",
       "  'attributes': {'nameVi': 'Trưởng phòng', 'nameEn': 'Manager'}},\n",
       " {'id': 3,\n",
       "  'type': 'jobLevelItem',\n",
       "  'attributes': {'nameVi': 'Giám Đốc và Cấp Cao Hơn',\n",
       "   'nameEn': 'Director and above'}}]"
      ]
     },
     "execution_count": 24,
     "metadata": {},
     "output_type": "execute_result"
    }
   ],
   "source": [
    "levels_js"
   ]
  },
  {
   "cell_type": "code",
   "execution_count": 36,
   "id": "8f07a4f2",
   "metadata": {},
   "outputs": [
    {
     "data": {
      "text/plain": [
       "[{'id': 8, 'nameVi': 'Thực tập sinh/Sinh viên', 'nameEn': 'Intern/Student'},\n",
       " {'id': 1, 'nameVi': 'Mới Tốt Nghiệp', 'nameEn': 'Fresher/Entry level'},\n",
       " {'id': 5, 'nameVi': 'Nhân viên', 'nameEn': 'Experienced (non-manager)'},\n",
       " {'id': 7, 'nameVi': 'Trưởng phòng', 'nameEn': 'Manager'},\n",
       " {'id': 3,\n",
       "  'nameVi': 'Giám Đốc và Cấp Cao Hơn',\n",
       "  'nameEn': 'Director and above'}]"
      ]
     },
     "execution_count": 36,
     "metadata": {},
     "output_type": "execute_result"
    }
   ],
   "source": [
    "# JSON_DIR = 'data/json'\n",
    "# JSON_NAME = 'vnworks-levels.json'\n",
    "# with open(f'{JSON_DIR}/{JSON_NAME}', \"w\") as outfile:\n",
    "#     json.dump(levels_arr, outfile)\n",
    "\n",
    "# Opening JSON file\n",
    "with open(f'{JSON_DIR}/{JSON_NAME}', 'r') as openfile:\n",
    "    # Reading from json file\n",
    "    json_object = json.load(openfile)\n",
    "    \n",
    "json_object"
   ]
  },
  {
   "cell_type": "markdown",
   "id": "b707040c",
   "metadata": {},
   "source": [
    "# Industry labels"
   ]
  },
  {
   "cell_type": "code",
   "execution_count": 28,
   "id": "a1efadbf",
   "metadata": {},
   "outputs": [],
   "source": [
    "IND_URL = \"https://ms.vietnamworks.com/meta/v1.0/industries\"\n",
    "inds_rp = requests.get(IND_URL)\n",
    "\n",
    "inds_arr = []\n",
    "inds_js = json.loads(inds_rp.text)['data']['relationships']['data']\n",
    "for ind in inds_js:\n",
    "    inds_arr.append({\n",
    "        'id':ind['id'],\n",
    "        'nameVi':ind['attributes']['nameVi'],\n",
    "        'nameEn':ind['attributes']['nameEn']\n",
    "    })"
   ]
  },
  {
   "cell_type": "code",
   "execution_count": 32,
   "id": "8ccf2067",
   "metadata": {},
   "outputs": [
    {
     "data": {
      "text/plain": [
       "72"
      ]
     },
     "execution_count": 32,
     "metadata": {},
     "output_type": "execute_result"
    }
   ],
   "source": [
    "len(inds_arr)"
   ]
  },
  {
   "cell_type": "code",
   "execution_count": 34,
   "id": "aac9a3f1",
   "metadata": {},
   "outputs": [
    {
     "data": {
      "text/html": [
       "<div>\n",
       "<style scoped>\n",
       "    .dataframe tbody tr th:only-of-type {\n",
       "        vertical-align: middle;\n",
       "    }\n",
       "\n",
       "    .dataframe tbody tr th {\n",
       "        vertical-align: top;\n",
       "    }\n",
       "\n",
       "    .dataframe thead th {\n",
       "        text-align: right;\n",
       "    }\n",
       "</style>\n",
       "<table border=\"1\" class=\"dataframe\">\n",
       "  <thead>\n",
       "    <tr style=\"text-align: right;\">\n",
       "      <th></th>\n",
       "      <th>id</th>\n",
       "      <th>nameVi</th>\n",
       "      <th>nameEn</th>\n",
       "    </tr>\n",
       "  </thead>\n",
       "  <tbody>\n",
       "    <tr>\n",
       "      <th>0</th>\n",
       "      <td>83</td>\n",
       "      <td>An toàn lao động</td>\n",
       "      <td>HSE</td>\n",
       "    </tr>\n",
       "    <tr>\n",
       "      <th>1</th>\n",
       "      <td>78</td>\n",
       "      <td>Bác sĩ</td>\n",
       "      <td>Doctors</td>\n",
       "    </tr>\n",
       "    <tr>\n",
       "      <th>2</th>\n",
       "      <td>34</td>\n",
       "      <td>Bán hàng kỹ thuật</td>\n",
       "      <td>Sales Technical</td>\n",
       "    </tr>\n",
       "    <tr>\n",
       "      <th>3</th>\n",
       "      <td>33</td>\n",
       "      <td>Bán hàng</td>\n",
       "      <td>Sales</td>\n",
       "    </tr>\n",
       "    <tr>\n",
       "      <th>4</th>\n",
       "      <td>32</td>\n",
       "      <td>Bán lẻ/Bán sỉ</td>\n",
       "      <td>Retail/Wholesale</td>\n",
       "    </tr>\n",
       "    <tr>\n",
       "      <th>...</th>\n",
       "      <td>...</td>\n",
       "      <td>...</td>\n",
       "      <td>...</td>\n",
       "    </tr>\n",
       "    <tr>\n",
       "      <th>67</th>\n",
       "      <td>79</td>\n",
       "      <td>Y sĩ/Hộ lý</td>\n",
       "      <td>Doctors/nurses</td>\n",
       "    </tr>\n",
       "    <tr>\n",
       "      <th>68</th>\n",
       "      <td>22</td>\n",
       "      <td>Y tế/Chăm sóc sức khỏe</td>\n",
       "      <td>Health/Medical Care</td>\n",
       "    </tr>\n",
       "    <tr>\n",
       "      <th>69</th>\n",
       "      <td>77</td>\n",
       "      <td>Địa chất/Khoáng sản</td>\n",
       "      <td>Geology/Mineral</td>\n",
       "    </tr>\n",
       "    <tr>\n",
       "      <th>70</th>\n",
       "      <td>76</td>\n",
       "      <td>Điện lạnh/Nhiệt lạnh</td>\n",
       "      <td>HVAC</td>\n",
       "    </tr>\n",
       "    <tr>\n",
       "      <th>71</th>\n",
       "      <td>64</td>\n",
       "      <td>Điện/Điện tử</td>\n",
       "      <td>Electrical/Electronics</td>\n",
       "    </tr>\n",
       "  </tbody>\n",
       "</table>\n",
       "<p>72 rows × 3 columns</p>\n",
       "</div>"
      ],
      "text/plain": [
       "    id                  nameVi                  nameEn\n",
       "0   83        An toàn lao động                     HSE\n",
       "1   78                  Bác sĩ                 Doctors\n",
       "2   34       Bán hàng kỹ thuật         Sales Technical\n",
       "3   33                Bán hàng                   Sales\n",
       "4   32           Bán lẻ/Bán sỉ        Retail/Wholesale\n",
       "..  ..                     ...                     ...\n",
       "67  79              Y sĩ/Hộ lý          Doctors/nurses\n",
       "68  22  Y tế/Chăm sóc sức khỏe     Health/Medical Care\n",
       "69  77     Địa chất/Khoáng sản         Geology/Mineral\n",
       "70  76    Điện lạnh/Nhiệt lạnh                    HVAC\n",
       "71  64            Điện/Điện tử  Electrical/Electronics\n",
       "\n",
       "[72 rows x 3 columns]"
      ]
     },
     "execution_count": 34,
     "metadata": {},
     "output_type": "execute_result"
    }
   ],
   "source": [
    "pd.DataFrame.from_records(inds_arr)"
   ]
  },
  {
   "cell_type": "code",
   "execution_count": 38,
   "id": "48282585",
   "metadata": {},
   "outputs": [
    {
     "data": {
      "text/plain": [
       "[{'id': 83, 'nameVi': 'An toàn lao động', 'nameEn': 'HSE'},\n",
       " {'id': 78, 'nameVi': 'Bác sĩ', 'nameEn': 'Doctors'},\n",
       " {'id': 34, 'nameVi': 'Bán hàng kỹ thuật', 'nameEn': 'Sales Technical'},\n",
       " {'id': 33, 'nameVi': 'Bán hàng', 'nameEn': 'Sales'},\n",
       " {'id': 32, 'nameVi': 'Bán lẻ/Bán sỉ', 'nameEn': 'Retail/Wholesale'},\n",
       " {'id': 24, 'nameVi': 'Bảo hiểm', 'nameEn': 'Insurance'},\n",
       " {'id': 84, 'nameVi': 'Bảo trì/Sửa chữa', 'nameEn': 'Maintenance'},\n",
       " {'id': 30, 'nameVi': 'Bất động sản', 'nameEn': 'Real Estate'},\n",
       " {'id': 47, 'nameVi': 'Biên phiên dịch', 'nameEn': 'Interpreter/Translator'},\n",
       " {'id': 17,\n",
       "  'nameVi': 'Cấp quản lý điều hành',\n",
       "  'nameEn': 'Executive management'},\n",
       " {'id': 56, 'nameVi': 'Chứng khoán', 'nameEn': 'Securities & Trading'},\n",
       " {'id': 65, 'nameVi': 'Cơ khí', 'nameEn': 'Mechanical'},\n",
       " {'id': 66, 'nameVi': 'Công nghệ cao', 'nameEn': 'High Technology'},\n",
       " {'id': 28, 'nameVi': 'Dầu khí', 'nameEn': 'Oil/Gas'},\n",
       " {'id': 52,\n",
       "  'nameVi': 'Dệt may/Da giày',\n",
       "  'nameEn': 'Textiles/Garments/Footwear'},\n",
       " {'id': 11, 'nameVi': 'Dịch vụ khách hàng', 'nameEn': 'Customer Service'},\n",
       " {'id': 6,\n",
       "  'nameVi': 'Dược Phẩm/Công nghệ sinh học',\n",
       "  'nameEn': 'Pharmaceutical/Biotech'},\n",
       " {'id': 80, 'nameVi': 'Dược sĩ', 'nameEn': 'Pharmacist'},\n",
       " {'id': 12, 'nameVi': 'Giáo dục/Đào tạo', 'nameEn': 'Education/Training'},\n",
       " {'id': 62, 'nameVi': 'Hàng cao cấp', 'nameEn': 'Luxury Goods'},\n",
       " {'id': 75, 'nameVi': 'Hàng gia dụng', 'nameEn': 'Household'},\n",
       " {'id': 82, 'nameVi': 'Hàng hải', 'nameEn': 'Marine'},\n",
       " {'id': 37, 'nameVi': 'Hàng không/Du lịch', 'nameEn': 'Airlines/Tourism'},\n",
       " {'id': 74, 'nameVi': 'Hàng tiêu dùng', 'nameEn': 'FMCG'},\n",
       " {'id': 2, 'nameVi': 'Hành chánh/Thư ký', 'nameEn': 'Administrative/Clerical'},\n",
       " {'id': 43, 'nameVi': 'Hóa học/Hóa sinh', 'nameEn': 'Chemical/Biochemical'},\n",
       " {'id': 69, 'nameVi': 'Hoạch định/Dự án', 'nameEn': 'Planning/Projects'},\n",
       " {'id': 72, 'nameVi': 'In ấn/ Xuất bản', 'nameEn': 'Printing'},\n",
       " {'id': 57,\n",
       "  'nameVi': 'Internet/Online Media',\n",
       "  'nameEn': 'Internet/Online Media'},\n",
       " {'id': 35, 'nameVi': 'IT - Phần mềm', 'nameEn': 'IT - Software'},\n",
       " {'id': 55,\n",
       "  'nameVi': 'IT-Phần cứng/Mạng',\n",
       "  'nameEn': 'IT - Hardware/Networking'},\n",
       " {'id': 1, 'nameVi': 'Kế toán', 'nameEn': 'Accounting'},\n",
       " {'id': 39, 'nameVi': 'Khác', 'nameEn': 'Other'},\n",
       " {'id': 53, 'nameVi': 'Kho vận', 'nameEn': 'Warehouse'},\n",
       " {'id': 58, 'nameVi': 'Kiểm toán', 'nameEn': 'Auditing'},\n",
       " {'id': 5,\n",
       "  'nameVi': 'Kiến trúc/Thiết kế nội thất ',\n",
       "  'nameEn': 'Architecture/Interior Design'},\n",
       " {'id': 27, 'nameVi': 'Marketing', 'nameEn': 'Marketing'},\n",
       " {'id': 15, 'nameVi': 'Mới tốt nghiệp', 'nameEn': 'Entry level'},\n",
       " {'id': 16,\n",
       "  'nameVi': 'Môi trường/Xử lý chất thải',\n",
       "  'nameEn': 'Environment/Waste Services'},\n",
       " {'id': 10, 'nameVi': 'Mỹ Thuật/Nghệ Thuật/Thiết Kế', 'nameEn': 'Arts/Design'},\n",
       " {'id': 42, 'nameVi': 'Ngân hàng', 'nameEn': 'Banking'},\n",
       " {'id': 18,\n",
       "  'nameVi': 'Người nước ngoài/Việt Kiều',\n",
       "  'nameEn': 'Expatriate Jobs in Vietnam'},\n",
       " {'id': 73, 'nameVi': 'Nhà hàng/Khách sạn', 'nameEn': 'Restaurant/Hotel'},\n",
       " {'id': 23, 'nameVi': 'Nhân sự', 'nameEn': 'Human Resources'},\n",
       " {'id': 4,\n",
       "  'nameVi': 'Nông nghiệp/Lâm nghiệp',\n",
       "  'nameEn': 'Agriculture/Forestry'},\n",
       " {'id': 71, 'nameVi': 'Overseas Jobs', 'nameEn': 'Overseas Jobs'},\n",
       " {'id': 25, 'nameVi': 'Pháp lý', 'nameEn': 'Legal/Contracts'},\n",
       " {'id': 21,\n",
       "  'nameVi': 'Phi chính phủ/Phi lợi nhuận',\n",
       "  'nameEn': 'NGO/Non-Profit'},\n",
       " {'id': 70, 'nameVi': 'QA/QC', 'nameEn': 'QA/QC'},\n",
       " {'id': 3,\n",
       "  'nameVi': 'Quảng cáo/Khuyến mãi/Đối ngoại',\n",
       "  'nameEn': 'Advertising/Promotion/PR'},\n",
       " {'id': 68, 'nameVi': 'Sản phẩm công nghiệp', 'nameEn': 'Industrial Products'},\n",
       " {'id': 26, 'nameVi': 'Sản Xuất', 'nameEn': 'Production/Process'},\n",
       " {'id': 157, 'nameVi': 'Tài chính công nghệ', 'nameEn': 'Fintech'},\n",
       " {'id': 59, 'nameVi': 'Tài chính/Đầu tư', 'nameEn': 'Finance/Investment'},\n",
       " {'id': 63, 'nameVi': 'Thời trang', 'nameEn': 'Fashion/Lifestyle'},\n",
       " {'id': 51,\n",
       "  'nameVi': 'Thời vụ/Hợp đồng ngắn hạn',\n",
       "  'nameEn': 'Temporary/Contract'},\n",
       " {'id': 49,\n",
       "  'nameVi': 'Thu Mua/Vật Tư/Cung Vận',\n",
       "  'nameEn': 'Merchandising/Purchasing/Supply Chain'},\n",
       " {'id': 54, 'nameVi': 'Thực phẩm & Đồ uống', 'nameEn': 'Food & Beverage'},\n",
       " {'id': 156, 'nameVi': 'Thương mại điện tử', 'nameEn': 'E-commerce'},\n",
       " {'id': 81,\n",
       "  'nameVi': 'Trình dược viên',\n",
       "  'nameEn': 'Pharmaceutical representatives'},\n",
       " {'id': 48,\n",
       "  'nameVi': 'Truyền hình/Truyền thông/Báo chí',\n",
       "  'nameEn': 'TV/Media/Newspaper'},\n",
       " {'id': 8, 'nameVi': 'Tư vấn', 'nameEn': 'Consulting'},\n",
       " {'id': 67, 'nameVi': 'Tự động hóa/Ô tô', 'nameEn': 'Auto/Automotive'},\n",
       " {'id': 36, 'nameVi': 'Vận chuyển/Giao nhận', 'nameEn': 'Freight/Logistics'},\n",
       " {'id': 41, 'nameVi': 'Viễn Thông', 'nameEn': 'Telecommunications'},\n",
       " {'id': 7, 'nameVi': 'Xây dựng', 'nameEn': 'Civil/Construction'},\n",
       " {'id': 19, 'nameVi': 'Xuất nhập khẩu', 'nameEn': 'Export-Import'},\n",
       " {'id': 79, 'nameVi': 'Y sĩ/Hộ lý', 'nameEn': 'Doctors/nurses'},\n",
       " {'id': 22,\n",
       "  'nameVi': 'Y tế/Chăm sóc sức khỏe',\n",
       "  'nameEn': 'Health/Medical Care'},\n",
       " {'id': 77, 'nameVi': 'Địa chất/Khoáng sản', 'nameEn': 'Geology/Mineral'},\n",
       " {'id': 76, 'nameVi': 'Điện lạnh/Nhiệt lạnh', 'nameEn': 'HVAC'},\n",
       " {'id': 64, 'nameVi': 'Điện/Điện tử', 'nameEn': 'Electrical/Electronics'}]"
      ]
     },
     "execution_count": 38,
     "metadata": {},
     "output_type": "execute_result"
    }
   ],
   "source": [
    "# JSON_DIR = 'data/json'\n",
    "# JSON_NAME = 'vnworks-inds.json'\n",
    "# with open(f'{JSON_DIR}/{JSON_NAME}', \"w\") as outfile:\n",
    "#     json.dump(inds_arr, outfile)\n",
    "\n",
    "# Opening JSON file\n",
    "with open(f'{JSON_DIR}/{JSON_NAME}', 'r') as openfile:\n",
    "    # Reading from json file\n",
    "    json_object = json.load(openfile)\n",
    "    \n",
    "json_object"
   ]
  },
  {
   "cell_type": "markdown",
   "id": "1a0c86cb",
   "metadata": {},
   "source": [
    "# Cities / Provinces"
   ]
  },
  {
   "cell_type": "code",
   "execution_count": 42,
   "id": "f12b961a",
   "metadata": {},
   "outputs": [],
   "source": [
    "CITY_URL = 'https://ms.vietnamworks.com/meta/v1.0/cities'\n",
    "ct_rp = requests.get(CITY_URL)\n",
    "\n",
    "ct_arr = []\n",
    "ct_js = json.loads(ct_rp.text)['data']['relationships']['data']\n",
    "\n",
    "for ct in ct_js:\n",
    "    ct_arr.append({\n",
    "        'id':ct['id'],\n",
    "        'nameVi':ct['attributes']['nameVi'],\n",
    "        'nameEn':ct['attributes']['nameEn']\n",
    "    })"
   ]
  },
  {
   "cell_type": "code",
   "execution_count": 45,
   "id": "d051f48c",
   "metadata": {
    "scrolled": false
   },
   "outputs": [
    {
     "name": "stdout",
     "output_type": "stream",
     "text": [
      "66\n"
     ]
    }
   ],
   "source": [
    "print(len(ct_arr))"
   ]
  },
  {
   "cell_type": "code",
   "execution_count": 46,
   "id": "9253156f",
   "metadata": {},
   "outputs": [
    {
     "data": {
      "text/plain": [
       "[{'id': 70, 'nameVi': 'Quốc tế', 'nameEn': 'International'},\n",
       " {'id': 24, 'nameVi': 'Hà Nội', 'nameEn': 'Ha Noi'},\n",
       " {'id': 29, 'nameVi': 'Hồ Chí Minh', 'nameEn': 'Ho Chi Minh'},\n",
       " {'id': 28, 'nameVi': 'Hải Phòng', 'nameEn': 'Hai Phong'},\n",
       " {'id': 17, 'nameVi': 'Đà Nẵng', 'nameEn': 'Da Nang'},\n",
       " {'id': 15, 'nameVi': 'Cần Thơ', 'nameEn': 'Can Tho'},\n",
       " {'id': 3, 'nameVi': 'Bà Rịa - Vũng Tàu', 'nameEn': 'Ba Ria - Vung Tau'},\n",
       " {'id': 2, 'nameVi': 'An Giang', 'nameEn': 'An Giang'},\n",
       " {'id': 5, 'nameVi': 'Bắc Giang', 'nameEn': 'Bac Giang'},\n",
       " {'id': 4, 'nameVi': 'Bắc Kạn', 'nameEn': 'Bac Kan'},\n",
       " {'id': 6, 'nameVi': 'Bạc Liêu', 'nameEn': 'Bac Lieu'},\n",
       " {'id': 7, 'nameVi': 'Bắc Ninh', 'nameEn': 'Bac Ninh'},\n",
       " {'id': 8, 'nameVi': 'Bến Tre', 'nameEn': 'Ben Tre'},\n",
       " {'id': 10, 'nameVi': 'Bình Định', 'nameEn': 'Binh Dinh'},\n",
       " {'id': 11, 'nameVi': 'Bình Dương', 'nameEn': 'Binh Duong'},\n",
       " {'id': 12, 'nameVi': 'Bình Phước', 'nameEn': 'Binh Phuoc'},\n",
       " {'id': 13, 'nameVi': 'Bình Thuận', 'nameEn': 'Binh Thuan'},\n",
       " {'id': 14, 'nameVi': 'Cà Mau', 'nameEn': 'Ca Mau'},\n",
       " {'id': 16, 'nameVi': 'Cao Bằng', 'nameEn': 'Cao Bang'},\n",
       " {'id': 18, 'nameVi': 'Đắk Lắk', 'nameEn': 'Dak Lak'},\n",
       " {'id': 73, 'nameVi': 'Đắk Nông', 'nameEn': 'Dak Nong'},\n",
       " {'id': 71, 'nameVi': 'ĐBSCL', 'nameEn': 'Mekong Delta'},\n",
       " {'id': 69, 'nameVi': 'Điện Biên', 'nameEn': 'Dien Bien'},\n",
       " {'id': 19, 'nameVi': 'Đồng Nai', 'nameEn': 'Dong Nai'},\n",
       " {'id': 20, 'nameVi': 'Đồng Tháp', 'nameEn': 'Dong Thap'},\n",
       " {'id': 21, 'nameVi': 'Gia Lai', 'nameEn': 'Gia Lai'},\n",
       " {'id': 22, 'nameVi': 'Hà Giang', 'nameEn': 'Ha Giang'},\n",
       " {'id': 23, 'nameVi': 'Hà Nam', 'nameEn': 'Ha Nam'},\n",
       " {'id': 26, 'nameVi': 'Hà Tĩnh', 'nameEn': 'Ha Tinh'},\n",
       " {'id': 27, 'nameVi': 'Hải Dương', 'nameEn': 'Hai Duong'},\n",
       " {'id': 72, 'nameVi': 'Hậu Giang', 'nameEn': 'Hau Giang'},\n",
       " {'id': 30, 'nameVi': 'Hòa Bình', 'nameEn': 'Hoa Binh'},\n",
       " {'id': 32, 'nameVi': 'Hưng Yên', 'nameEn': 'Hung Yen'},\n",
       " {'id': 33, 'nameVi': 'Khánh Hòa', 'nameEn': 'Khanh Hoa'},\n",
       " {'id': 61, 'nameVi': 'Kiên Giang', 'nameEn': 'Kien Giang'},\n",
       " {'id': 34, 'nameVi': 'Kon Tum', 'nameEn': 'Kon Tum'},\n",
       " {'id': 35, 'nameVi': 'Lai Châu', 'nameEn': 'Lai Chau'},\n",
       " {'id': 36, 'nameVi': 'Lâm Đồng', 'nameEn': 'Lam Dong'},\n",
       " {'id': 37, 'nameVi': 'Lạng Sơn', 'nameEn': 'Lang Son'},\n",
       " {'id': 38, 'nameVi': 'Lào Cai', 'nameEn': 'Lao Cai'},\n",
       " {'id': 39, 'nameVi': 'Long An', 'nameEn': 'Long An'},\n",
       " {'id': 40, 'nameVi': 'Nam Định', 'nameEn': 'Nam Dinh'},\n",
       " {'id': 41, 'nameVi': 'Nghệ An', 'nameEn': 'Nghe An'},\n",
       " {'id': 42, 'nameVi': 'Ninh Bình', 'nameEn': 'Ninh Binh'},\n",
       " {'id': 43, 'nameVi': 'Ninh Thuận', 'nameEn': 'Ninh Thuan'},\n",
       " {'id': 44, 'nameVi': 'Phú Thọ', 'nameEn': 'Phu Tho'},\n",
       " {'id': 45, 'nameVi': 'Phú Yên', 'nameEn': 'Phu Yen'},\n",
       " {'id': 46, 'nameVi': 'Quảng Bình', 'nameEn': 'Quang Binh'},\n",
       " {'id': 47, 'nameVi': 'Quảng Nam', 'nameEn': 'Quang Nam'},\n",
       " {'id': 48, 'nameVi': 'Quảng Ngãi', 'nameEn': 'Quang Ngai'},\n",
       " {'id': 49, 'nameVi': 'Quảng Ninh', 'nameEn': 'Quang Ninh'},\n",
       " {'id': 50, 'nameVi': 'Quảng Trị', 'nameEn': 'Quang Tri'},\n",
       " {'id': 51, 'nameVi': 'Sóc Trăng', 'nameEn': 'Soc Trang'},\n",
       " {'id': 52, 'nameVi': 'Sơn La', 'nameEn': 'Son La'},\n",
       " {'id': 53, 'nameVi': 'Tây Ninh', 'nameEn': 'Tay Ninh'},\n",
       " {'id': 54, 'nameVi': 'Thái Bình', 'nameEn': 'Thai Binh'},\n",
       " {'id': 55, 'nameVi': 'Thái Nguyên', 'nameEn': 'Thai Nguyen'},\n",
       " {'id': 56, 'nameVi': 'Thanh Hóa', 'nameEn': 'Thanh Hoa'},\n",
       " {'id': 57, 'nameVi': 'Thừa Thiên Huế', 'nameEn': 'Thua Thien Hue'},\n",
       " {'id': 58, 'nameVi': 'Tiền Giang', 'nameEn': 'Tien Giang'},\n",
       " {'id': 59, 'nameVi': 'Trà Vinh', 'nameEn': 'Tra Vinh'},\n",
       " {'id': 60, 'nameVi': 'Tuyên Quang', 'nameEn': 'Tuyen Quang'},\n",
       " {'id': 62, 'nameVi': 'Vĩnh Long', 'nameEn': 'Vinh Long'},\n",
       " {'id': 63, 'nameVi': 'Vĩnh Phúc', 'nameEn': 'Vinh Phuc'},\n",
       " {'id': 65, 'nameVi': 'Yên Bái', 'nameEn': 'Yen Bai'},\n",
       " {'id': 66, 'nameVi': 'Khác', 'nameEn': 'Other'}]"
      ]
     },
     "execution_count": 46,
     "metadata": {},
     "output_type": "execute_result"
    }
   ],
   "source": [
    "JSON_DIR = 'data/json'\n",
    "JSON_NAME = 'vnworks-cities.json'\n",
    "with open(f'{JSON_DIR}/{JSON_NAME}', \"w\") as outfile:\n",
    "    json.dump(ct_arr, outfile)\n",
    "\n",
    "# Opening JSON file\n",
    "with open(f'{JSON_DIR}/{JSON_NAME}', 'r') as openfile:\n",
    "    # Reading from json file\n",
    "    json_object = json.load(openfile)\n",
    "    \n",
    "json_object"
   ]
  }
 ],
 "metadata": {
  "kernelspec": {
   "display_name": "Python 3 (ipykernel)",
   "language": "python",
   "name": "python3"
  },
  "language_info": {
   "codemirror_mode": {
    "name": "ipython",
    "version": 3
   },
   "file_extension": ".py",
   "mimetype": "text/x-python",
   "name": "python",
   "nbconvert_exporter": "python",
   "pygments_lexer": "ipython3",
   "version": "3.9.13"
  }
 },
 "nbformat": 4,
 "nbformat_minor": 5
}
