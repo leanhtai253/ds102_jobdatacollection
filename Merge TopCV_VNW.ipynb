{
 "cells": [
  {
   "cell_type": "code",
   "execution_count": 24,
   "id": "bbde2f8a",
   "metadata": {},
   "outputs": [],
   "source": [
    "import pandas as pd\n",
    "import numpy as np\n",
    "import os\n",
    "import json"
   ]
  },
  {
   "cell_type": "code",
   "execution_count": 25,
   "id": "0f0d0f5a",
   "metadata": {},
   "outputs": [],
   "source": [
    "CSV_DIR = 'data/topcv/tidy_csv'"
   ]
  },
  {
   "cell_type": "code",
   "execution_count": 26,
   "id": "b48107e4",
   "metadata": {},
   "outputs": [],
   "source": [
    "vnw = pd.read_csv('data/topcv/tidy_csv/vietnamworks_tidy.csv')\n",
    "topcv = pd.read_csv('data/topcv/tidy_csv/topcv_tidy.csv')"
   ]
  },
  {
   "cell_type": "code",
   "execution_count": 27,
   "id": "6f143c1f",
   "metadata": {},
   "outputs": [],
   "source": [
    "jobs_data = pd.concat([topcv, vnw])"
   ]
  },
  {
   "cell_type": "code",
   "execution_count": 28,
   "id": "c630f996",
   "metadata": {},
   "outputs": [],
   "source": [
    "jobs_data.to_csv('data/final/txl_jobs_data.csv', index=False)"
   ]
  },
  {
   "cell_type": "code",
   "execution_count": 29,
   "id": "0639a3f0",
   "metadata": {},
   "outputs": [],
   "source": [
    "jobs_data[['description', 'requirements', 'mapped_industry', 'industry']].to_csv('data/final/ml_jobs_data.csv', index=False)"
   ]
  },
  {
   "cell_type": "markdown",
   "id": "40fe6be9",
   "metadata": {},
   "source": [
    "### Read data"
   ]
  },
  {
   "cell_type": "code",
   "execution_count": 30,
   "id": "992ccbef",
   "metadata": {},
   "outputs": [],
   "source": [
    "txl_data = pd.read_csv('data/final/txl_jobs_data.csv')\n",
    "ml_data = pd.read_csv('data/final/ml_jobs_data.csv')"
   ]
  },
  {
   "cell_type": "code",
   "execution_count": 31,
   "id": "75efa793",
   "metadata": {},
   "outputs": [
    {
     "data": {
      "text/html": [
       "<div>\n",
       "<style scoped>\n",
       "    .dataframe tbody tr th:only-of-type {\n",
       "        vertical-align: middle;\n",
       "    }\n",
       "\n",
       "    .dataframe tbody tr th {\n",
       "        vertical-align: top;\n",
       "    }\n",
       "\n",
       "    .dataframe thead th {\n",
       "        text-align: right;\n",
       "    }\n",
       "</style>\n",
       "<table border=\"1\" class=\"dataframe\">\n",
       "  <thead>\n",
       "    <tr style=\"text-align: right;\">\n",
       "      <th></th>\n",
       "      <th>description</th>\n",
       "      <th>requirements</th>\n",
       "      <th>mapped_industry</th>\n",
       "      <th>industry</th>\n",
       "    </tr>\n",
       "  </thead>\n",
       "  <tbody>\n",
       "    <tr>\n",
       "      <th>0</th>\n",
       "      <td>Làm việc tại Văn phòng Shinhan Bank: Mục đích ...</td>\n",
       "      <td>- Tốt nghiệp Đại học, cao đẳng hoặc trung cấp ...</td>\n",
       "      <td>Tư vấn, Ngân hàng, Chăm sóc khách hàng</td>\n",
       "      <td>52, 33, 8</td>\n",
       "    </tr>\n",
       "    <tr>\n",
       "      <th>1</th>\n",
       "      <td>Main responsibilities: Creating highly detaile...</td>\n",
       "      <td>Above 2 years of experience in a Game Designer...</td>\n",
       "      <td>IT Phần mềm</td>\n",
       "      <td>21</td>\n",
       "    </tr>\n",
       "    <tr>\n",
       "      <th>2</th>\n",
       "      <td>- Nhận nhiệm vụ hàng ngày hoặc hàng tuần từ Tr...</td>\n",
       "      <td>- Tốt nghiệp từ Trung cấp trở lên, chuyên ngàn...</td>\n",
       "      <td>Cơ khí, Vận hành máy - Bảo trì - Bảo dưỡng thi...</td>\n",
       "      <td>9, 55</td>\n",
       "    </tr>\n",
       "    <tr>\n",
       "      <th>3</th>\n",
       "      <td>Tìm kiến nguồn khách hàng mới, có nhu cầu xây ...</td>\n",
       "      <td>Tốt nghiệp chuyên ngành cơ khí chế tạo, tự độn...</td>\n",
       "      <td>Kinh doanh, Hàng tiêu dùng, Hàng gia dụng</td>\n",
       "      <td>26, 65, 64</td>\n",
       "    </tr>\n",
       "    <tr>\n",
       "      <th>4</th>\n",
       "      <td>- Quản lý, tổ chức giảng dạy các môn học, học ...</td>\n",
       "      <td>- Thạc sĩ trở lên, đúng chuyên ngành - Có ưu t...</td>\n",
       "      <td>Giáo dục - Đào tạo, IT Phần mềm</td>\n",
       "      <td>15, 21</td>\n",
       "    </tr>\n",
       "    <tr>\n",
       "      <th>...</th>\n",
       "      <td>...</td>\n",
       "      <td>...</td>\n",
       "      <td>...</td>\n",
       "      <td>...</td>\n",
       "    </tr>\n",
       "    <tr>\n",
       "      <th>40092</th>\n",
       "      <td>We are seeking an experienced and motivated Ge...</td>\n",
       "      <td>Minimum of 20 years of experience in sales and...</td>\n",
       "      <td>Quản lý điều hành, Ngân hàng, Tài chính - Đầu tư</td>\n",
       "      <td>10, 33, 50</td>\n",
       "    </tr>\n",
       "    <tr>\n",
       "      <th>40093</th>\n",
       "      <td>1/ Cấu trúc tổ chức  - Xây dựng, thiết kế cấu ...</td>\n",
       "      <td>- Cử nhân/ Thạc sĩ trở lên trong các ngành: QT...</td>\n",
       "      <td>Quản lý điều hành, Hành chính - Thư ký, Nhân sự</td>\n",
       "      <td>10, 18, 34</td>\n",
       "    </tr>\n",
       "    <tr>\n",
       "      <th>40094</th>\n",
       "      <td>Khách hàng của Navigos Search là công ty sản x...</td>\n",
       "      <td>- Nam từ 28 - 38 tuổi - Tốt nghiệp các trường ...</td>\n",
       "      <td>An toàn lao động, Môi trường - Xử lý chất thải</td>\n",
       "      <td>2, 31</td>\n",
       "    </tr>\n",
       "    <tr>\n",
       "      <th>40095</th>\n",
       "      <td>Khách hàng của Navigos Search là công ty R&amp;D n...</td>\n",
       "      <td>- Nam/nữ, dưới 27 tuổi - Tốt nghiệp Đại học tr...</td>\n",
       "      <td>Sản phẩm công nghiệp, Sản xuất - Lắp ráp - Chế...</td>\n",
       "      <td>41, 42</td>\n",
       "    </tr>\n",
       "    <tr>\n",
       "      <th>40096</th>\n",
       "      <td>Khách hàng của Navigos Search là công ty có vố...</td>\n",
       "      <td>- Tốt nghiệp cao đẳng trở lên, ưu tiên các ngà...</td>\n",
       "      <td>Bán buôn - Bán lẻ - Quản lý cửa hàng, Bán hàng...</td>\n",
       "      <td>5, 61</td>\n",
       "    </tr>\n",
       "  </tbody>\n",
       "</table>\n",
       "<p>40097 rows × 4 columns</p>\n",
       "</div>"
      ],
      "text/plain": [
       "                                             description  \\\n",
       "0      Làm việc tại Văn phòng Shinhan Bank: Mục đích ...   \n",
       "1      Main responsibilities: Creating highly detaile...   \n",
       "2      - Nhận nhiệm vụ hàng ngày hoặc hàng tuần từ Tr...   \n",
       "3      Tìm kiến nguồn khách hàng mới, có nhu cầu xây ...   \n",
       "4      - Quản lý, tổ chức giảng dạy các môn học, học ...   \n",
       "...                                                  ...   \n",
       "40092  We are seeking an experienced and motivated Ge...   \n",
       "40093  1/ Cấu trúc tổ chức  - Xây dựng, thiết kế cấu ...   \n",
       "40094  Khách hàng của Navigos Search là công ty sản x...   \n",
       "40095  Khách hàng của Navigos Search là công ty R&D n...   \n",
       "40096  Khách hàng của Navigos Search là công ty có vố...   \n",
       "\n",
       "                                            requirements  \\\n",
       "0      - Tốt nghiệp Đại học, cao đẳng hoặc trung cấp ...   \n",
       "1      Above 2 years of experience in a Game Designer...   \n",
       "2      - Tốt nghiệp từ Trung cấp trở lên, chuyên ngàn...   \n",
       "3      Tốt nghiệp chuyên ngành cơ khí chế tạo, tự độn...   \n",
       "4      - Thạc sĩ trở lên, đúng chuyên ngành - Có ưu t...   \n",
       "...                                                  ...   \n",
       "40092  Minimum of 20 years of experience in sales and...   \n",
       "40093  - Cử nhân/ Thạc sĩ trở lên trong các ngành: QT...   \n",
       "40094  - Nam từ 28 - 38 tuổi - Tốt nghiệp các trường ...   \n",
       "40095  - Nam/nữ, dưới 27 tuổi - Tốt nghiệp Đại học tr...   \n",
       "40096  - Tốt nghiệp cao đẳng trở lên, ưu tiên các ngà...   \n",
       "\n",
       "                                         mapped_industry    industry  \n",
       "0                 Tư vấn, Ngân hàng, Chăm sóc khách hàng   52, 33, 8  \n",
       "1                                            IT Phần mềm          21  \n",
       "2      Cơ khí, Vận hành máy - Bảo trì - Bảo dưỡng thi...       9, 55  \n",
       "3              Kinh doanh, Hàng tiêu dùng, Hàng gia dụng  26, 65, 64  \n",
       "4                        Giáo dục - Đào tạo, IT Phần mềm      15, 21  \n",
       "...                                                  ...         ...  \n",
       "40092   Quản lý điều hành, Ngân hàng, Tài chính - Đầu tư  10, 33, 50  \n",
       "40093    Quản lý điều hành, Hành chính - Thư ký, Nhân sự  10, 18, 34  \n",
       "40094     An toàn lao động, Môi trường - Xử lý chất thải       2, 31  \n",
       "40095  Sản phẩm công nghiệp, Sản xuất - Lắp ráp - Chế...      41, 42  \n",
       "40096  Bán buôn - Bán lẻ - Quản lý cửa hàng, Bán hàng...       5, 61  \n",
       "\n",
       "[40097 rows x 4 columns]"
      ]
     },
     "execution_count": 31,
     "metadata": {},
     "output_type": "execute_result"
    }
   ],
   "source": [
    "ml_data"
   ]
  }
 ],
 "metadata": {
  "kernelspec": {
   "display_name": "Python 3 (ipykernel)",
   "language": "python",
   "name": "python3"
  },
  "language_info": {
   "codemirror_mode": {
    "name": "ipython",
    "version": 3
   },
   "file_extension": ".py",
   "mimetype": "text/x-python",
   "name": "python",
   "nbconvert_exporter": "python",
   "pygments_lexer": "ipython3",
   "version": "3.9.13"
  }
 },
 "nbformat": 4,
 "nbformat_minor": 5
}
